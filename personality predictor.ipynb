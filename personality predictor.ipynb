{
 "cells": [
  {
   "cell_type": "code",
   "execution_count": 1,
   "id": "57d7de65",
   "metadata": {},
   "outputs": [],
   "source": [
    "#import the Libraries\n",
    "import pandas as pd\n",
    "from sklearn.model_selection import train_test_split\n",
    "from sklearn.preprocessing import StandardScaler\n",
    "from sklearn.preprocessing import LabelEncoder\n",
    "from sklearn.linear_model import LogisticRegression\n",
    "from sklearn.metrics import (accuracy_score, confusion_matrix, classification_report, roc_curve, auc)\n",
    "import joblib"
   ]
  },
  {
   "cell_type": "code",
   "execution_count": 2,
   "id": "d3e0da1b",
   "metadata": {},
   "outputs": [
    {
     "ename": "SyntaxError",
     "evalue": "(unicode error) 'unicodeescape' codec can't decode bytes in position 2-3: truncated \\UXXXXXXXX escape (4211060401.py, line 2)",
     "output_type": "error",
     "traceback": [
      "\u001b[1;36m  Input \u001b[1;32mIn [2]\u001b[1;36m\u001b[0m\n\u001b[1;33m    df = pd.read_csv(\"C:\\Users\\91992\\OneDrive\\Desktop\\Project\\personality_dataset.csv\")\u001b[0m\n\u001b[1;37m                                                                                      ^\u001b[0m\n\u001b[1;31mSyntaxError\u001b[0m\u001b[1;31m:\u001b[0m (unicode error) 'unicodeescape' codec can't decode bytes in position 2-3: truncated \\UXXXXXXXX escape\n"
     ]
    }
   ],
   "source": [
    "# 📥 Load Dataset\n",
    "df = pd.read_csv(\"C:\\Users\\91992\\OneDrive\\Desktop\\Project\\personality_dataset.csv\")\n",
    "\n",
    "# Display first few rows\n",
    "print(df.head())"
   ]
  },
  {
   "cell_type": "code",
   "execution_count": null,
   "id": "f778c465",
   "metadata": {},
   "outputs": [],
   "source": [
    "# Check for missing values\n",
    "print(\"Missing values:\\n\",df.isnull().sum())\n",
    "\n",
    "# Drop rows with missing values (if any)\n",
    "df.dropna(inplace=True)\n"
   ]
  },
  {
   "cell_type": "code",
   "execution_count": null,
   "id": "a2aaba7a",
   "metadata": {},
   "outputs": [],
   "source": [
    "label_encoders = {}\n",
    "for col in ['Stage_fear', 'Drained_after_socializing', 'Personality']:\n",
    "    if col in df.columns:\n",
    "        le = LabelEncoder()\n",
    "        df[col] = le.fit_transform(df[col])\n",
    "        label_encoders[col] = le\n",
    "    else:\n",
    "        print(f\"⚠️ Warning: Column '{col}' not found in DataFrame.\")\n",
    "\n",
    "# 🔍 Optional: Show updated DataFrame\n",
    "print(\"\\nPreview of Encoded Data:\")\n",
    "print(df.head())\n"
   ]
  },
  {
   "cell_type": "code",
   "execution_count": null,
   "id": "d8b42f7f",
   "metadata": {},
   "outputs": [],
   "source": [
    "print(df.columns.tolist())\n",
    "df.columns = df.columns.str.strip()\n",
    "\n",
    "# ✅ Step 4: Define Features and Target\n",
    "features = ['Time_spent_Alone', 'Stage_fear', 'Social_event_attendance', 'Going_outside',\n",
    "            'Drained_after_socializing', 'Friends_circle_size', 'Post_frequency', 'Personality']\n",
    "X= df[features]\n",
    "y = df['Personality']\n",
    "print(\"✅ Feature matrix and target successfully defined.\")"
   ]
  },
  {
   "cell_type": "code",
   "execution_count": 3,
   "id": "5fb18001",
   "metadata": {},
   "outputs": [
    {
     "ename": "NameError",
     "evalue": "name 'df' is not defined",
     "output_type": "error",
     "traceback": [
      "\u001b[1;31m---------------------------------------------------------------------------\u001b[0m",
      "\u001b[1;31mNameError\u001b[0m                                 Traceback (most recent call last)",
      "Input \u001b[1;32mIn [3]\u001b[0m, in \u001b[0;36m<cell line: 5>\u001b[1;34m()\u001b[0m\n\u001b[0;32m      2\u001b[0m \u001b[38;5;28;01mimport\u001b[39;00m \u001b[38;5;21;01mmatplotlib\u001b[39;00m\u001b[38;5;21;01m.\u001b[39;00m\u001b[38;5;21;01mpyplot\u001b[39;00m \u001b[38;5;28;01mas\u001b[39;00m \u001b[38;5;21;01mplt\u001b[39;00m\n\u001b[0;32m      4\u001b[0m \u001b[38;5;66;03m# 📊 Feature & Target Split\u001b[39;00m\n\u001b[1;32m----> 5\u001b[0m X \u001b[38;5;241m=\u001b[39m \u001b[43mdf\u001b[49m\u001b[38;5;241m.\u001b[39mdrop(\u001b[38;5;124m'\u001b[39m\u001b[38;5;124mPersonality\u001b[39m\u001b[38;5;124m'\u001b[39m, axis\u001b[38;5;241m=\u001b[39m\u001b[38;5;241m1\u001b[39m)\n\u001b[0;32m      6\u001b[0m y \u001b[38;5;241m=\u001b[39m df[\u001b[38;5;124m'\u001b[39m\u001b[38;5;124mPersonality\u001b[39m\u001b[38;5;124m'\u001b[39m]  \u001b[38;5;66;03m# Encoded as 0 = Extrovert, 1 = Introvert\u001b[39;00m\n\u001b[0;32m      8\u001b[0m \u001b[38;5;66;03m# ✅ Confirm Shapes\u001b[39;00m\n",
      "\u001b[1;31mNameError\u001b[0m: name 'df' is not defined"
     ]
    }
   ],
   "source": [
    "import seaborn as sns\n",
    "import matplotlib.pyplot as plt\n",
    "\n",
    "# 📊 Feature & Target Split\n",
    "X = df.drop('Personality', axis=1)\n",
    "y = df['Personality']  # Encoded as 0 = Extrovert, 1 = Introvert\n",
    "\n",
    "# ✅ Confirm Shapes\n",
    "print(f\"Feature shape: {X.shape}\")\n",
    "print(f\"Target shape: {y.shape}\")\n",
    "\n",
    "# 🎯 Plot Target Distribution\n",
    "plt.figure(figsize=(8, 4))\n",
    "sns.countplot(x=y)\n",
    "plt.title(\"Distribution of Target Variable (Personality Type)\")\n",
    "plt.xlabel(\"Personality (0 = Extrovert, 1 = Introvert)\")\n",
    "plt.ylabel(\"Count\")\n",
    "plt.xticks([0, 1], ['Extrovert', 'Introvert'])\n",
    "plt.show()\n"
   ]
  },
  {
   "cell_type": "code",
   "execution_count": null,
   "id": "65178f04",
   "metadata": {},
   "outputs": [],
   "source": [
    "# Train-test split\n",
    "X_train, X_test, y_train, y_test = train_test_split(X, y, test_size=0.2, random_state=42)\n",
    " \n",
    "#Scaling\n",
    "scaler = StandardScaler()\n",
    "X_train_scaled = scaler.fit_transform(X_train)\n",
    "X_test_scaled = scaler.transform(X_test)\n",
    "\n",
    "# Train model\n",
    "model = LogisticRegression()\n",
    "model.fit(X_train_scaled, y_train)\n",
    "print(\"✅ Preprocessing complete.\")\n",
    "print(\"Training set shape:\", X_train.shape)\n",
    "print(\"Testing set shape:\", X_test.shape)"
   ]
  },
  {
   "cell_type": "code",
   "execution_count": null,
   "id": "dd3f9954",
   "metadata": {},
   "outputs": [],
   "source": [
    " #✅ Accuracy Score\n",
    "accuracy = accuracy_score(y_test, y_pred)\n",
    "print(\"Accuracy:\", round(accuracy, 4))\n"
   ]
  },
  {
   "cell_type": "code",
   "execution_count": 4,
   "id": "dcc41f0f",
   "metadata": {},
   "outputs": [
    {
     "ename": "NameError",
     "evalue": "name 'y_test' is not defined",
     "output_type": "error",
     "traceback": [
      "\u001b[1;31m---------------------------------------------------------------------------\u001b[0m",
      "\u001b[1;31mNameError\u001b[0m                                 Traceback (most recent call last)",
      "Input \u001b[1;32mIn [4]\u001b[0m, in \u001b[0;36m<cell line: 2>\u001b[1;34m()\u001b[0m\n\u001b[0;32m      1\u001b[0m \u001b[38;5;66;03m# Confusion Matrix\u001b[39;00m\n\u001b[1;32m----> 2\u001b[0m conf_matrix \u001b[38;5;241m=\u001b[39m confusion_matrix(\u001b[43my_test\u001b[49m, y_pred)\n\u001b[0;32m      3\u001b[0m plt\u001b[38;5;241m.\u001b[39mfigure(figsize\u001b[38;5;241m=\u001b[39m(\u001b[38;5;241m15\u001b[39m, \u001b[38;5;241m10\u001b[39m))\n\u001b[0;32m      4\u001b[0m plt\u001b[38;5;241m.\u001b[39msubplot(\u001b[38;5;241m2\u001b[39m, \u001b[38;5;241m2\u001b[39m, \u001b[38;5;241m1\u001b[39m)\n",
      "\u001b[1;31mNameError\u001b[0m: name 'y_test' is not defined"
     ]
    }
   ],
   "source": [
    "# Confusion Matrix\n",
    "conf_matrix = confusion_matrix(y_test, y_pred)\n",
    "plt.figure(figsize=(15, 10))\n",
    "plt.subplot(2, 2, 1)\n",
    "sns.heatmap(conf_matrix, annot=True, fmt='d', cmap='Blues')\n",
    "plt.title('Confusion Matrix')\n",
    "plt.xlabel('Predicted Label')\n",
    "plt.ylabel('True Label')\n",
    "\n",
    "# Confusion matrix and classification report\n",
    "print(\"\\n📊 Confusion Matrix:\")\n",
    "print(confusion_matrix(y_test, y_pred))\n"
   ]
  },
  {
   "cell_type": "code",
   "execution_count": 5,
   "id": "66bd4c90",
   "metadata": {},
   "outputs": [
    {
     "name": "stdout",
     "output_type": "stream",
     "text": [
      "\n",
      "📝 Classification Report:\n"
     ]
    },
    {
     "ename": "NameError",
     "evalue": "name 'y_test' is not defined",
     "output_type": "error",
     "traceback": [
      "\u001b[1;31m---------------------------------------------------------------------------\u001b[0m",
      "\u001b[1;31mNameError\u001b[0m                                 Traceback (most recent call last)",
      "Input \u001b[1;32mIn [5]\u001b[0m, in \u001b[0;36m<cell line: 2>\u001b[1;34m()\u001b[0m\n\u001b[0;32m      1\u001b[0m \u001b[38;5;28mprint\u001b[39m(\u001b[38;5;124m\"\u001b[39m\u001b[38;5;130;01m\\n\u001b[39;00m\u001b[38;5;124m📝 Classification Report:\u001b[39m\u001b[38;5;124m\"\u001b[39m)\n\u001b[1;32m----> 2\u001b[0m \u001b[38;5;28mprint\u001b[39m(classification_report(\u001b[43my_test\u001b[49m, y_pred))\n\u001b[0;32m      3\u001b[0m \u001b[38;5;66;03m# Assuming `report` is already created using classification_report(..., output_dict=True)\u001b[39;00m\n\u001b[0;32m      4\u001b[0m report_df \u001b[38;5;241m=\u001b[39m pd\u001b[38;5;241m.\u001b[39mDataFrame(report)\u001b[38;5;241m.\u001b[39miloc[:\u001b[38;5;241m-\u001b[39m\u001b[38;5;241m1\u001b[39m, :]\u001b[38;5;241m.\u001b[39mT  \u001b[38;5;66;03m# Remove 'accuracy' row for cleaner view\u001b[39;00m\n",
      "\u001b[1;31mNameError\u001b[0m: name 'y_test' is not defined"
     ]
    }
   ],
   "source": [
    "print(\"\\n📝 Classification Report:\")\n",
    "print(classification_report(y_test, y_pred))\n",
    "# Assuming `report` is already created using classification_report(..., output_dict=True)\n",
    "report_df = pd.DataFrame(report).iloc[:-1, :].T  # Remove 'accuracy' row for cleaner view\n",
    "\n",
    "# 📊 Large, standalone Classification Report plot\n",
    "plt.figure(figsize=(10, 6))  # Increase size here\n",
    "sns.heatmap(report_df, annot=True, cmap=\"YlGnBu\", fmt=\".2f\", linewidths=0.5, cbar=True)\n",
    "\n",
    "plt.title(\"Classification Report\", fontsize=16)\n",
    "plt.xlabel(\"Metrics\", fontsize=12)\n",
    "plt.ylabel(\"Class Labels\", fontsize=12)\n",
    "plt.xticks(fontsize=14)\n",
    "plt.yticks(fontsize=10)\n",
    "\n",
    "plt.tight_layout()\n",
    "plt.show()"
   ]
  },
  {
   "cell_type": "code",
   "execution_count": 6,
   "id": "33cccb14",
   "metadata": {},
   "outputs": [
    {
     "ename": "NameError",
     "evalue": "name 'y_test' is not defined",
     "output_type": "error",
     "traceback": [
      "\u001b[1;31m---------------------------------------------------------------------------\u001b[0m",
      "\u001b[1;31mNameError\u001b[0m                                 Traceback (most recent call last)",
      "Input \u001b[1;32mIn [6]\u001b[0m, in \u001b[0;36m<cell line: 2>\u001b[1;34m()\u001b[0m\n\u001b[0;32m      1\u001b[0m \u001b[38;5;66;03m# ROC Curve and AUC\u001b[39;00m\n\u001b[1;32m----> 2\u001b[0m fpr, tpr, thresholds \u001b[38;5;241m=\u001b[39m roc_curve(\u001b[43my_test\u001b[49m, y_proba)\n\u001b[0;32m      3\u001b[0m plt\u001b[38;5;241m.\u001b[39mfigure(figsize\u001b[38;5;241m=\u001b[39m(\u001b[38;5;241m18\u001b[39m, \u001b[38;5;241m6\u001b[39m))\n\u001b[0;32m      4\u001b[0m roc_auc \u001b[38;5;241m=\u001b[39m auc(fpr, tpr)\n",
      "\u001b[1;31mNameError\u001b[0m: name 'y_test' is not defined"
     ]
    }
   ],
   "source": [
    "# ROC Curve and AUC\n",
    "fpr, tpr, thresholds = roc_curve(y_test, y_proba)\n",
    "plt.figure(figsize=(18, 6))\n",
    "roc_auc = auc(fpr, tpr)\n",
    "plt.subplot(1, 3, 2)\n",
    "plt.plot(fpr, tpr, color='darkorange', lw=4, label=f\"AUC = {roc_auc:.5f}\")\n",
    "plt.plot([0, 1], [0, 1], color='navy', lw=3,linestyle='--')\n",
    "plt.title('ROC Curve',fontsize=16)\n",
    "plt.xlabel('False Positive Rate',fontsize=16)\n",
    "plt.ylabel('True Positive Rate',fontsize=16)\n",
    "plt.legend(loc=\"lower right\")\n",
    "plt.grid(True)"
   ]
  },
  {
   "cell_type": "code",
   "execution_count": 59,
   "id": "7911f137",
   "metadata": {},
   "outputs": [
    {
     "name": "stdout",
     "output_type": "stream",
     "text": [
      "✅ Model trained and saved as personality_model.pkl and scaler.pkl\n"
     ]
    }
   ],
   "source": [
    "# Save model and scaler\n",
    "joblib.dump(model, 'personality_model.pkl')\n",
    "joblib.dump(scaler, 'scaler.pkl')\n",
    "print(\"✅ Model trained and saved as personality_model.pkl and scaler.pkl\")"
   ]
  },
  {
   "cell_type": "code",
   "execution_count": null,
   "id": "4fc1fec4",
   "metadata": {},
   "outputs": [],
   "source": []
  }
 ],
 "metadata": {
  "kernelspec": {
   "display_name": "Python 3 (ipykernel)",
   "language": "python",
   "name": "python3"
  },
  "language_info": {
   "codemirror_mode": {
    "name": "ipython",
    "version": 3
   },
   "file_extension": ".py",
   "mimetype": "text/x-python",
   "name": "python",
   "nbconvert_exporter": "python",
   "pygments_lexer": "ipython3",
   "version": "3.10.9"
  }
 },
 "nbformat": 4,
 "nbformat_minor": 5
}
